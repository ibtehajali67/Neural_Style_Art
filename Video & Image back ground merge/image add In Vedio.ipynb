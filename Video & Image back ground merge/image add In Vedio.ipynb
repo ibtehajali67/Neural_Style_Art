{
 "cells": [
  {
   "cell_type": "code",
   "execution_count": null,
   "id": "present-increase",
   "metadata": {},
   "outputs": [],
   "source": [
    "#Add an image on other image at centre\n",
    "import cv2\n",
    "from PIL import Image\n",
    "import numpy\n",
    "t,x,y=[],[],[]\n",
    "l={}\n",
    "img = Image.open(\"6.png\")\n",
    "# print(type(img)\n",
    "# img.convert('RGBA')# get image\n",
    "# img=numpy.array(img)x,y=[],[],[]\n",
    "pixels = img.load() # create the pixel map\n",
    "con=0\n",
    "for i in range(img.size[0]): # for every pixel:\n",
    "    for j in range(img.size[1]):\n",
    "        if pixels[i,j] != (0,0,0,0):             \n",
    "            y.append(j)\n",
    "            x.append(i)\n",
    "            con+=1\n",
    "x=numpy.array(x)\n",
    "y=numpy.array(y)\n",
    "img1 = Image.open(\"jj.png\")\n",
    "img1.convert('RGBA')\n",
    "\n",
    "frame_height,frame_width,=img1.size              \n",
    "img_height,img_width,=img.size\n",
    "img1=numpy.array(img1)\n",
    "print(type(img))\n",
    "img=numpy.array(img)\n",
    "print(type(img))\n",
    "a = (int(.5 *frame_width)-int(.5 *img_width))\n",
    "b = (int(.5 * frame_height)-int(.5 *img_height))\n",
    "img[y,x]=img1[y , x]\n",
    "img=Image.fromarray(img1)\n",
    "img.save(\"iii.png\")"
   ]
  },
  {
   "cell_type": "code",
   "execution_count": null,
   "id": "informal-fellowship",
   "metadata": {},
   "outputs": [],
   "source": [
    "#Convert Image to Png with alpha channel\n",
    "import glob\n",
    "from PIL import Image\n",
    "count=0\n",
    "for file in glob.glob(\"9/*.png\"):\n",
    "    file=Image.open(file)\n",
    "    file.convert('RGBA').save(\"8/out\"+str(count)+\"_.png\")\n",
    "    count+=1"
   ]
  },
  {
   "cell_type": "code",
   "execution_count": null,
   "id": "offshore-marketplace",
   "metadata": {},
   "outputs": [],
   "source": [
    "#Video to images conversion \n",
    "!ffmpeg -i \"./smoke.mp4\" \"./9/img%03d.png\""
   ]
  },
  {
   "cell_type": "code",
   "execution_count": 1,
   "id": "indirect-transsexual",
   "metadata": {},
   "outputs": [],
   "source": [
    "import cv2\n",
    "import numpy as np"
   ]
  },
  {
   "cell_type": "code",
   "execution_count": 58,
   "id": "liable-complex",
   "metadata": {},
   "outputs": [],
   "source": [
    "image=cv2.imread(\"/home/mitho/Downloads/130.png\")"
   ]
  },
  {
   "cell_type": "code",
   "execution_count": 54,
   "id": "annual-participation",
   "metadata": {},
   "outputs": [],
   "source": [
    "#GEt area without black colure using cv with channel 3\n",
    "img[np.where(np.all(img!=(0,0,0),axis=0))]=[167,167,167]"
   ]
  },
  {
   "cell_type": "code",
   "execution_count": 59,
   "id": "israeli-easter",
   "metadata": {},
   "outputs": [],
   "source": [
    "image[np.where((image!=[0,0,0]).all(axis=2))] = [167,167,167]"
   ]
  },
  {
   "cell_type": "code",
   "execution_count": 61,
   "id": "durable-carolina",
   "metadata": {},
   "outputs": [],
   "source": [
    "image[np.where((image==[0,0,0]).all(axis=2))] = [255,255,255]"
   ]
  },
  {
   "cell_type": "code",
   "execution_count": 63,
   "id": "becoming-absorption",
   "metadata": {},
   "outputs": [],
   "source": [
    "image[np.where((image==[167,167,167]).all(axis=2))] = [0,0,0]"
   ]
  },
  {
   "cell_type": "code",
   "execution_count": 64,
   "id": "finnish-military",
   "metadata": {},
   "outputs": [
    {
     "data": {
      "text/plain": [
       "True"
      ]
     },
     "execution_count": 64,
     "metadata": {},
     "output_type": "execute_result"
    }
   ],
   "source": [
    "cv2.imwrite(\"h.png\",image)"
   ]
  },
  {
   "cell_type": "code",
   "execution_count": null,
   "id": "smooth-columbia",
   "metadata": {},
   "outputs": [],
   "source": [
    "\n",
    "img.convert('RGB')"
   ]
  },
  {
   "cell_type": "code",
   "execution_count": null,
   "id": "interpreted-cheese",
   "metadata": {},
   "outputs": [],
   "source": []
  },
  {
   "cell_type": "code",
   "execution_count": null,
   "id": "indonesian-worthy",
   "metadata": {},
   "outputs": [],
   "source": [
    "frame_height,frame_width,_=frame.shape \n",
    "img_height,img_width,_=img.shape\n",
    "f = (int(.5 *frame_width)-int(.5 *img_width))\n",
    "g = (int(.5 * frame_height)-int(.5 *img_height))"
   ]
  },
  {
   "cell_type": "code",
   "execution_count": null,
   "id": "athletic-failing",
   "metadata": {},
   "outputs": [],
   "source": [
    "frame[y+g,x+f] = img[y,x]"
   ]
  },
  {
   "cell_type": "code",
   "execution_count": null,
   "id": "affecting-store",
   "metadata": {},
   "outputs": [],
   "source": [
    "cv2.imwrite(\"ib.png\",frame)"
   ]
  },
  {
   "cell_type": "code",
   "execution_count": null,
   "id": "eleven-parks",
   "metadata": {},
   "outputs": [],
   "source": [
    "img1 = Image.open(\"671.png\")\n",
    "img1.convert(\"RGBA\").save(\"jj.png\")"
   ]
  },
  {
   "cell_type": "code",
   "execution_count": 4,
   "id": "enormous-export",
   "metadata": {},
   "outputs": [],
   "source": [
    "#resize image using pil\n",
    "from PIL import Image\n",
    "img = Image.open(\"input_image/552.png\") \n",
    "img = img.resize((\n",
    "        125, \n",
    "        125), \n",
    "        Image.ANTIALIAS)\n",
    "img.save(\"input_image/55.png\")"
   ]
  },
  {
   "cell_type": "code",
   "execution_count": 9,
   "id": "future-arrest",
   "metadata": {},
   "outputs": [
    {
     "name": "stderr",
     "output_type": "stream",
     "text": [
      "t:   3%|▎         | 2/58 [31:41<14:47:21, 950.74s/it, now=None]\n",
      "t:   0%|          | 0/57 [00:00<?, ?it/s, now=None]\u001b[A\n",
      "t:   5%|▌         | 3/57 [00:00<00:03, 16.70it/s, now=None]\u001b[A"
     ]
    },
    {
     "name": "stdout",
     "output_type": "stream",
     "text": [
      "MoviePy - Building file out_gif/7.gif with imageio.\n"
     ]
    },
    {
     "name": "stderr",
     "output_type": "stream",
     "text": [
      "\n",
      "t:   9%|▉         | 5/57 [00:00<00:03, 16.55it/s, now=None]\u001b[A\n",
      "t:  14%|█▍        | 8/57 [00:00<00:02, 19.36it/s, now=None]\u001b[A\n",
      "t:  19%|█▉        | 11/57 [00:00<00:02, 20.45it/s, now=None]\u001b[A\n",
      "t:  25%|██▍       | 14/57 [00:00<00:02, 20.50it/s, now=None]\u001b[A\n",
      "t:  30%|██▉       | 17/57 [00:00<00:02, 18.91it/s, now=None]\u001b[A\n",
      "t:  33%|███▎      | 19/57 [00:01<00:02, 16.60it/s, now=None]\u001b[A\n",
      "t:  37%|███▋      | 21/57 [00:01<00:02, 15.13it/s, now=None]\u001b[A\n",
      "t:  40%|████      | 23/57 [00:01<00:02, 13.76it/s, now=None]\u001b[A\n",
      "t:  44%|████▍     | 25/57 [00:01<00:02, 12.44it/s, now=None]\u001b[A\n",
      "t:  47%|████▋     | 27/57 [00:01<00:02, 11.96it/s, now=None]\u001b[A\n",
      "t:  51%|█████     | 29/57 [00:01<00:02, 11.46it/s, now=None]\u001b[A\n",
      "t:  54%|█████▍    | 31/57 [00:02<00:02, 11.06it/s, now=None]\u001b[A\n",
      "t:  58%|█████▊    | 33/57 [00:02<00:02, 10.65it/s, now=None]\u001b[A\n",
      "t:  61%|██████▏   | 35/57 [00:02<00:02, 10.46it/s, now=None]\u001b[A\n",
      "t:  65%|██████▍   | 37/57 [00:02<00:01, 10.25it/s, now=None]\u001b[A\n",
      "t:  68%|██████▊   | 39/57 [00:02<00:01, 10.11it/s, now=None]\u001b[A\n",
      "t:  72%|███████▏  | 41/57 [00:03<00:01,  9.70it/s, now=None]\u001b[A\n",
      "t:  74%|███████▎  | 42/57 [00:03<00:01,  9.72it/s, now=None]\u001b[A\n",
      "t:  75%|███████▌  | 43/57 [00:03<00:01,  9.75it/s, now=None]\u001b[A\n",
      "t:  77%|███████▋  | 44/57 [00:03<00:01,  9.77it/s, now=None]\u001b[A\n",
      "t:  79%|███████▉  | 45/57 [00:03<00:01,  9.78it/s, now=None]\u001b[A\n",
      "t:  82%|████████▏ | 47/57 [00:03<00:01,  9.87it/s, now=None]\u001b[A\n",
      "t:  84%|████████▍ | 48/57 [00:03<00:00,  9.69it/s, now=None]\u001b[A\n",
      "\u001b[A                                                            \n",
      "t:  88%|████████▊ | 50/57 [00:04<00:00,  9.72it/s, now=None]\u001b[A\n",
      "t:  89%|████████▉ | 51/57 [00:04<00:00,  9.66it/s, now=None]\u001b[A\n",
      "t:  91%|█████████ | 52/57 [00:04<00:00,  9.61it/s, now=None]\u001b[A\n",
      "t:  93%|█████████▎| 53/57 [00:04<00:00,  9.64it/s, now=None]\u001b[A\n",
      "t:  95%|█████████▍| 54/57 [00:04<00:00,  9.54it/s, now=None]\u001b[A\n",
      "t:  96%|█████████▋| 55/57 [00:04<00:00,  9.22it/s, now=None]\u001b[A\n",
      "t:  98%|█████████▊| 56/57 [00:04<00:00,  9.42it/s, now=None]\u001b[A\n",
      "t: 100%|██████████| 57/57 [00:04<00:00,  9.57it/s, now=None]\u001b[A\n",
      "                                                            \u001b[A"
     ]
    }
   ],
   "source": [
    "#Convert Video to gif\n",
    "from moviepy.editor import *\n",
    "z=\"out_video/55.mp4\"\n",
    "clip = (VideoFileClip(z))\n",
    "clip.write_gif(\"out_gif/7.gif\")"
   ]
  },
  {
   "cell_type": "code",
   "execution_count": 9,
   "id": "experimental-cabin",
   "metadata": {},
   "outputs": [
    {
     "name": "stderr",
     "output_type": "stream",
     "text": [
      "t:  47%|████▋     | 56/119 [00:00<00:00, 555.44it/s, now=None]"
     ]
    },
    {
     "name": "stdout",
     "output_type": "stream",
     "text": [
      "Moviepy - Building video in_video/24.mp4.\n",
      "Moviepy - Writing video in_video/24.mp4\n",
      "\n"
     ]
    },
    {
     "name": "stderr",
     "output_type": "stream",
     "text": [
      "                                                               "
     ]
    },
    {
     "name": "stdout",
     "output_type": "stream",
     "text": [
      "Moviepy - Done !\n",
      "Moviepy - video ready in_video/24.mp4\n"
     ]
    },
    {
     "name": "stderr",
     "output_type": "stream",
     "text": [
      "\r"
     ]
    }
   ],
   "source": [
    "#convert gif to video\n",
    "from moviepy.editor import *\n",
    "clip = VideoFileClip(\"input_gif/24.gif\")\n",
    "clip.write_videofile(\"in_video/24.mp4\")"
   ]
  },
  {
   "cell_type": "code",
   "execution_count": null,
   "id": "genetic-division",
   "metadata": {},
   "outputs": [],
   "source": [
    "#Add two image with transpency Alpha\n",
    "try:\n",
    "    from PIL import Image\n",
    "except ImportError:\n",
    "    import Image\n",
    "x,y=[],[]\n",
    "background = Image.open(\"2.jpg\")\n",
    "overlay = Image.open(\"1.png\")\n",
    "overlay  = overlay .resize(background.size)\n",
    "overlay = overlay.convert(\"RGBA\")\n",
    "background = background.convert(\"RGBA\")\n",
    "\n",
    "new_img = Image.blend(background, overlay, 0.2)\n",
    "new_img.save(\"new.png\",\"PNG\")"
   ]
  },
  {
   "cell_type": "code",
   "execution_count": 17,
   "id": "numerous-consequence",
   "metadata": {},
   "outputs": [
    {
     "ename": "TypeError",
     "evalue": "function takes exactly 1 argument (4 given)",
     "output_type": "error",
     "traceback": [
      "\u001b[0;31m---------------------------------------------------------------------------\u001b[0m",
      "\u001b[0;31mTypeError\u001b[0m                                 Traceback (most recent call last)",
      "\u001b[0;32m<ipython-input-17-dce4c07de74c>\u001b[0m in \u001b[0;36m<module>\u001b[0;34m\u001b[0m\n\u001b[1;32m      6\u001b[0m     \u001b[0;32mfor\u001b[0m \u001b[0mj\u001b[0m \u001b[0;32min\u001b[0m \u001b[0mrange\u001b[0m\u001b[0;34m(\u001b[0m\u001b[0mimg\u001b[0m\u001b[0;34m.\u001b[0m\u001b[0msize\u001b[0m\u001b[0;34m[\u001b[0m\u001b[0;36m1\u001b[0m\u001b[0;34m]\u001b[0m\u001b[0;34m)\u001b[0m\u001b[0;34m:\u001b[0m\u001b[0;34m\u001b[0m\u001b[0;34m\u001b[0m\u001b[0m\n\u001b[1;32m      7\u001b[0m         \u001b[0;32mif\u001b[0m \u001b[0mpixels\u001b[0m\u001b[0;34m[\u001b[0m\u001b[0mi\u001b[0m\u001b[0;34m,\u001b[0m\u001b[0mj\u001b[0m\u001b[0;34m]\u001b[0m \u001b[0;34m!=\u001b[0m \u001b[0;34m(\u001b[0m\u001b[0;36m0\u001b[0m\u001b[0;34m,\u001b[0m\u001b[0;36m0\u001b[0m\u001b[0;34m,\u001b[0m\u001b[0;36m0\u001b[0m\u001b[0;34m,\u001b[0m\u001b[0;36m255\u001b[0m\u001b[0;34m)\u001b[0m\u001b[0;34m:\u001b[0m\u001b[0;34m\u001b[0m\u001b[0;34m\u001b[0m\u001b[0m\n\u001b[0;32m----> 8\u001b[0;31m             \u001b[0mimg\u001b[0m\u001b[0;34m.\u001b[0m\u001b[0mputpixel\u001b[0m\u001b[0;34m(\u001b[0m \u001b[0;34m(\u001b[0m\u001b[0mi\u001b[0m\u001b[0;34m,\u001b[0m\u001b[0mj\u001b[0m\u001b[0;34m)\u001b[0m\u001b[0;34m,\u001b[0m \u001b[0;34m(\u001b[0m\u001b[0;36m255\u001b[0m\u001b[0;34m,\u001b[0m\u001b[0;36m255\u001b[0m\u001b[0;34m,\u001b[0m\u001b[0;36m255\u001b[0m\u001b[0;34m,\u001b[0m\u001b[0;36m255\u001b[0m\u001b[0;34m)\u001b[0m\u001b[0;34m)\u001b[0m\u001b[0;34m\u001b[0m\u001b[0;34m\u001b[0m\u001b[0m\n\u001b[0m",
      "\u001b[0;32m~/.local/lib/python3.6/site-packages/PIL/Image.py\u001b[0m in \u001b[0;36mputpixel\u001b[0;34m(self, xy, value)\u001b[0m\n\u001b[1;32m   1748\u001b[0m             \u001b[0;31m# RGB or RGBA value for a P image\u001b[0m\u001b[0;34m\u001b[0m\u001b[0;34m\u001b[0m\u001b[0;34m\u001b[0m\u001b[0m\n\u001b[1;32m   1749\u001b[0m             \u001b[0mvalue\u001b[0m \u001b[0;34m=\u001b[0m \u001b[0mself\u001b[0m\u001b[0;34m.\u001b[0m\u001b[0mpalette\u001b[0m\u001b[0;34m.\u001b[0m\u001b[0mgetcolor\u001b[0m\u001b[0;34m(\u001b[0m\u001b[0mvalue\u001b[0m\u001b[0;34m)\u001b[0m\u001b[0;34m\u001b[0m\u001b[0;34m\u001b[0m\u001b[0m\n\u001b[0;32m-> 1750\u001b[0;31m         \u001b[0;32mreturn\u001b[0m \u001b[0mself\u001b[0m\u001b[0;34m.\u001b[0m\u001b[0mim\u001b[0m\u001b[0;34m.\u001b[0m\u001b[0mputpixel\u001b[0m\u001b[0;34m(\u001b[0m\u001b[0mxy\u001b[0m\u001b[0;34m,\u001b[0m \u001b[0mvalue\u001b[0m\u001b[0;34m)\u001b[0m\u001b[0;34m\u001b[0m\u001b[0;34m\u001b[0m\u001b[0m\n\u001b[0m\u001b[1;32m   1751\u001b[0m \u001b[0;34m\u001b[0m\u001b[0m\n\u001b[1;32m   1752\u001b[0m     \u001b[0;32mdef\u001b[0m \u001b[0mremap_palette\u001b[0m\u001b[0;34m(\u001b[0m\u001b[0mself\u001b[0m\u001b[0;34m,\u001b[0m \u001b[0mdest_map\u001b[0m\u001b[0;34m,\u001b[0m \u001b[0msource_palette\u001b[0m\u001b[0;34m=\u001b[0m\u001b[0;32mNone\u001b[0m\u001b[0;34m)\u001b[0m\u001b[0;34m:\u001b[0m\u001b[0;34m\u001b[0m\u001b[0;34m\u001b[0m\u001b[0m\n",
      "\u001b[0;31mTypeError\u001b[0m: function takes exactly 1 argument (4 given)"
     ]
    }
   ],
   "source": [
    "from PIL import Image\n",
    "img = Image.open(\"/home/mitho/Downloads/130.png\") # get image\n",
    "pixels = img.load() # create the pixel map\n",
    "con=0\n",
    "for i in range(img.size[0]): # for every pixel:\n",
    "    for j in range(img.size[1]):\n",
    "        if pixels[i,j] != (0,0,0,255):\n",
    "            img.putpixel( (i,j), (255,255,255,255))"
   ]
  },
  {
   "cell_type": "code",
   "execution_count": null,
   "id": "broke-tucson",
   "metadata": {},
   "outputs": [],
   "source": []
  }
 ],
 "metadata": {
  "kernelspec": {
   "display_name": "Python 3",
   "language": "python",
   "name": "python3"
  },
  "language_info": {
   "codemirror_mode": {
    "name": "ipython",
    "version": 3
   },
   "file_extension": ".py",
   "mimetype": "text/x-python",
   "name": "python",
   "nbconvert_exporter": "python",
   "pygments_lexer": "ipython3",
   "version": "3.6.9"
  }
 },
 "nbformat": 4,
 "nbformat_minor": 5
}
