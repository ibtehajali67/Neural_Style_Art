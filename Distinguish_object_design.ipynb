{
  "nbformat": 4,
  "nbformat_minor": 0,
  "metadata": {
    "accelerator": "GPU",
    "colab": {
      "name": "Distinguish_object_design.ipynb",
      "provenance": [],
      "collapsed_sections": [],
      "machine_shape": "hm"
    },
    "kernelspec": {
      "display_name": "Python 3",
      "name": "python3"
    }
  },
  "cells": [
    {
      "cell_type": "code",
      "metadata": {
        "id": "WcNLxYrp1B0r",
        "colab": {
          "base_uri": "https://localhost:8080/"
        },
        "outputId": "e8a9cfe3-8017-4abc-f7e3-36e5200ac35e"
      },
      "source": [
        "from google.colab import drive\n",
        "drive.mount('/content/drive')"
      ],
      "execution_count": null,
      "outputs": [
        {
          "output_type": "stream",
          "name": "stdout",
          "text": [
            "Mounted at /content/drive\n"
          ]
        }
      ]
    },
    {
      "cell_type": "code",
      "metadata": {
        "id": "AxrBiKaO0Z60",
        "colab": {
          "base_uri": "https://localhost:8080/"
        },
        "outputId": "e02e8833-bd99-4688-adb8-925f8d81d53b"
      },
      "source": [
        "cd \"/content/drive/MyDrive/art/neural-style-tf\""
      ],
      "execution_count": 4,
      "outputs": [
        {
          "output_type": "stream",
          "name": "stdout",
          "text": [
            "/content/drive/MyDrive/art/neural-style-tf\n"
          ]
        }
      ]
    },
    {
      "cell_type": "code",
      "metadata": {
        "id": "jQX-lMic1x69"
      },
      "source": [
        "# !git clone https://github.com/cysmith/neural-style-tf.git"
      ],
      "execution_count": null,
      "outputs": []
    },
    {
      "cell_type": "code",
      "metadata": {
        "id": "A2CwaV9bDRLZ"
      },
      "source": [
        "!pip install tensorflow==1.14.0      \n",
        "!pip install tensorflow-gpu==1.14.0"
      ],
      "execution_count": null,
      "outputs": []
    },
    {
      "cell_type": "markdown",
      "metadata": {
        "id": "vxQx0ynnWFyi"
      },
      "source": [
        "# Run this model in optimized way "
      ]
    },
    {
      "cell_type": "code",
      "metadata": {
        "id": "6IJ5aDKD7xm9",
        "colab": {
          "base_uri": "https://localhost:8080/"
        },
        "outputId": "5e751f4b-c1b0-4ea8-fb00-f2117d50e953"
      },
      "source": [
        "!python custom_neural_style.py --content_img_dir '/content/drive/MyDrive/art/neural-style-tf/ntf/Input_1' --style_img_dir '/content/drive/MyDrive/art/neural-style-tf/ntf/Style_1' --output_dir '/content/drive/MyDrive/art/neural-style-tf/ntf/Results_1' --max_iterations 200"
      ],
      "execution_count": 5,
      "outputs": [
        {
          "output_type": "stream",
          "name": "stdout",
          "text": [
            "/usr/local/lib/python3.7/dist-packages/tensorflow/python/framework/dtypes.py:516: FutureWarning: Passing (type, 1) or '1type' as a synonym of type is deprecated; in a future version of numpy, it will be understood as (type, (1,)) / '(1,)type'.\n",
            "  _np_qint8 = np.dtype([(\"qint8\", np.int8, 1)])\n",
            "/usr/local/lib/python3.7/dist-packages/tensorflow/python/framework/dtypes.py:517: FutureWarning: Passing (type, 1) or '1type' as a synonym of type is deprecated; in a future version of numpy, it will be understood as (type, (1,)) / '(1,)type'.\n",
            "  _np_quint8 = np.dtype([(\"quint8\", np.uint8, 1)])\n",
            "/usr/local/lib/python3.7/dist-packages/tensorflow/python/framework/dtypes.py:518: FutureWarning: Passing (type, 1) or '1type' as a synonym of type is deprecated; in a future version of numpy, it will be understood as (type, (1,)) / '(1,)type'.\n",
            "  _np_qint16 = np.dtype([(\"qint16\", np.int16, 1)])\n",
            "/usr/local/lib/python3.7/dist-packages/tensorflow/python/framework/dtypes.py:519: FutureWarning: Passing (type, 1) or '1type' as a synonym of type is deprecated; in a future version of numpy, it will be understood as (type, (1,)) / '(1,)type'.\n",
            "  _np_quint16 = np.dtype([(\"quint16\", np.uint16, 1)])\n",
            "/usr/local/lib/python3.7/dist-packages/tensorflow/python/framework/dtypes.py:520: FutureWarning: Passing (type, 1) or '1type' as a synonym of type is deprecated; in a future version of numpy, it will be understood as (type, (1,)) / '(1,)type'.\n",
            "  _np_qint32 = np.dtype([(\"qint32\", np.int32, 1)])\n",
            "/usr/local/lib/python3.7/dist-packages/tensorflow/python/framework/dtypes.py:525: FutureWarning: Passing (type, 1) or '1type' as a synonym of type is deprecated; in a future version of numpy, it will be understood as (type, (1,)) / '(1,)type'.\n",
            "  np_resource = np.dtype([(\"resource\", np.ubyte, 1)])\n",
            "/usr/local/lib/python3.7/dist-packages/tensorboard/compat/tensorflow_stub/dtypes.py:541: FutureWarning: Passing (type, 1) or '1type' as a synonym of type is deprecated; in a future version of numpy, it will be understood as (type, (1,)) / '(1,)type'.\n",
            "  _np_qint8 = np.dtype([(\"qint8\", np.int8, 1)])\n",
            "/usr/local/lib/python3.7/dist-packages/tensorboard/compat/tensorflow_stub/dtypes.py:542: FutureWarning: Passing (type, 1) or '1type' as a synonym of type is deprecated; in a future version of numpy, it will be understood as (type, (1,)) / '(1,)type'.\n",
            "  _np_quint8 = np.dtype([(\"quint8\", np.uint8, 1)])\n",
            "/usr/local/lib/python3.7/dist-packages/tensorboard/compat/tensorflow_stub/dtypes.py:543: FutureWarning: Passing (type, 1) or '1type' as a synonym of type is deprecated; in a future version of numpy, it will be understood as (type, (1,)) / '(1,)type'.\n",
            "  _np_qint16 = np.dtype([(\"qint16\", np.int16, 1)])\n",
            "/usr/local/lib/python3.7/dist-packages/tensorboard/compat/tensorflow_stub/dtypes.py:544: FutureWarning: Passing (type, 1) or '1type' as a synonym of type is deprecated; in a future version of numpy, it will be understood as (type, (1,)) / '(1,)type'.\n",
            "  _np_quint16 = np.dtype([(\"quint16\", np.uint16, 1)])\n",
            "/usr/local/lib/python3.7/dist-packages/tensorboard/compat/tensorflow_stub/dtypes.py:545: FutureWarning: Passing (type, 1) or '1type' as a synonym of type is deprecated; in a future version of numpy, it will be understood as (type, (1,)) / '(1,)type'.\n",
            "  _np_qint32 = np.dtype([(\"qint32\", np.int32, 1)])\n",
            "/usr/local/lib/python3.7/dist-packages/tensorboard/compat/tensorflow_stub/dtypes.py:550: FutureWarning: Passing (type, 1) or '1type' as a synonym of type is deprecated; in a future version of numpy, it will be understood as (type, (1,)) / '(1,)type'.\n",
            "  np_resource = np.dtype([(\"resource\", np.ubyte, 1)])\n",
            "2021-11-30 06:20:53.451561: I tensorflow/core/platform/cpu_feature_guard.cc:142] Your CPU supports instructions that this TensorFlow binary was not compiled to use: AVX2 FMA\n",
            "2021-11-30 06:20:53.489951: I tensorflow/core/platform/profile_utils/cpu_utils.cc:94] CPU Frequency: 2199995000 Hz\n",
            "2021-11-30 06:20:53.498699: I tensorflow/compiler/xla/service/service.cc:168] XLA service 0x560662c3f340 executing computations on platform Host. Devices:\n",
            "2021-11-30 06:20:53.498774: I tensorflow/compiler/xla/service/service.cc:175]   StreamExecutor device (0): <undefined>, <undefined>\n",
            "2021-11-30 06:20:53.515083: I tensorflow/stream_executor/platform/default/dso_loader.cc:42] Successfully opened dynamic library libcuda.so.1\n",
            "2021-11-30 06:20:53.537497: E tensorflow/stream_executor/cuda/cuda_driver.cc:318] failed call to cuInit: CUDA_ERROR_NO_DEVICE: no CUDA-capable device is detected\n",
            "2021-11-30 06:20:53.537558: I tensorflow/stream_executor/cuda/cuda_diagnostics.cc:156] kernel driver does not appear to be running on this host (95021cd5f69f): /proc/driver/nvidia/version does not exist\n",
            "WARNING:tensorflow:From custom_neural_style.py:24: The name tf.Session is deprecated. Please use tf.compat.v1.Session instead.\n",
            "\n",
            "WARNING:tensorflow:From custom_neural_style.py:24: The name tf.ConfigProto is deprecated. Please use tf.compat.v1.ConfigProto instead.\n",
            "\n",
            "Device mapping:\n",
            "/job:localhost/replica:0/task:0/device:XLA_CPU:0 -> device: XLA_CPU device\n",
            "2021-11-30 06:20:53.542907: I tensorflow/core/common_runtime/direct_session.cc:296] Device mapping:\n",
            "/job:localhost/replica:0/task:0/device:XLA_CPU:0 -> device: XLA_CPU device\n",
            "\n",
            "\n",
            "---- RENDERING SINGLE IMAGE ----\n",
            "\n",
            "\n",
            "BUILDING VGG-19 NETWORK\n",
            "loading model weights...\n",
            "constructing layers...\n",
            "LAYER GROUP 1\n",
            "--conv1_1 | shape=(1, 720, 1080, 64) | weights_shape=(3, 3, 3, 64)\n",
            "--relu1_1 | shape=(1, 720, 1080, 64) | bias_shape=(64,)\n",
            "--conv1_2 | shape=(1, 720, 1080, 64) | weights_shape=(3, 3, 64, 64)\n",
            "--relu1_2 | shape=(1, 720, 1080, 64) | bias_shape=(64,)\n",
            "WARNING:tensorflow:From custom_neural_style.py:352: The name tf.nn.avg_pool is deprecated. Please use tf.nn.avg_pool2d instead.\n",
            "\n",
            "--pool1   | shape=(1, 360, 540, 64)\n",
            "LAYER GROUP 2\n",
            "--conv2_1 | shape=(1, 360, 540, 128) | weights_shape=(3, 3, 64, 128)\n",
            "--relu2_1 | shape=(1, 360, 540, 128) | bias_shape=(128,)\n",
            "--conv2_2 | shape=(1, 360, 540, 128) | weights_shape=(3, 3, 128, 128)\n",
            "--relu2_2 | shape=(1, 360, 540, 128) | bias_shape=(128,)\n",
            "--pool2   | shape=(1, 180, 270, 128)\n",
            "LAYER GROUP 3\n",
            "--conv3_1 | shape=(1, 180, 270, 256) | weights_shape=(3, 3, 128, 256)\n",
            "--relu3_1 | shape=(1, 180, 270, 256) | bias_shape=(256,)\n",
            "--conv3_2 | shape=(1, 180, 270, 256) | weights_shape=(3, 3, 256, 256)\n",
            "--relu3_2 | shape=(1, 180, 270, 256) | bias_shape=(256,)\n",
            "--conv3_3 | shape=(1, 180, 270, 256) | weights_shape=(3, 3, 256, 256)\n",
            "--relu3_3 | shape=(1, 180, 270, 256) | bias_shape=(256,)\n",
            "--conv3_4 | shape=(1, 180, 270, 256) | weights_shape=(3, 3, 256, 256)\n",
            "--relu3_4 | shape=(1, 180, 270, 256) | bias_shape=(256,)\n",
            "--pool3   | shape=(1, 90, 135, 256)\n",
            "LAYER GROUP 4\n",
            "--conv4_1 | shape=(1, 90, 135, 512) | weights_shape=(3, 3, 256, 512)\n",
            "--relu4_1 | shape=(1, 90, 135, 512) | bias_shape=(512,)\n",
            "--conv4_2 | shape=(1, 90, 135, 512) | weights_shape=(3, 3, 512, 512)\n",
            "--relu4_2 | shape=(1, 90, 135, 512) | bias_shape=(512,)\n",
            "--conv4_3 | shape=(1, 90, 135, 512) | weights_shape=(3, 3, 512, 512)\n",
            "--relu4_3 | shape=(1, 90, 135, 512) | bias_shape=(512,)\n",
            "--conv4_4 | shape=(1, 90, 135, 512) | weights_shape=(3, 3, 512, 512)\n",
            "--relu4_4 | shape=(1, 90, 135, 512) | bias_shape=(512,)\n",
            "--pool4   | shape=(1, 45, 68, 512)\n",
            "LAYER GROUP 5\n",
            "--conv5_1 | shape=(1, 45, 68, 512) | weights_shape=(3, 3, 512, 512)\n",
            "--relu5_1 | shape=(1, 45, 68, 512) | bias_shape=(512,)\n",
            "--conv5_2 | shape=(1, 45, 68, 512) | weights_shape=(3, 3, 512, 512)\n",
            "--relu5_2 | shape=(1, 45, 68, 512) | bias_shape=(512,)\n",
            "--conv5_3 | shape=(1, 45, 68, 512) | weights_shape=(3, 3, 512, 512)\n",
            "--relu5_3 | shape=(1, 45, 68, 512) | bias_shape=(512,)\n",
            "--conv5_4 | shape=(1, 45, 68, 512) | weights_shape=(3, 3, 512, 512)\n",
            "--relu5_4 | shape=(1, 45, 68, 512) | bias_shape=(512,)\n",
            "--pool5   | shape=(1, 23, 34, 512)\n",
            "Traceback (most recent call last):\n",
            "  File \"/usr/local/lib/python3.7/dist-packages/tensorflow/python/client/session.py\", line 1356, in _do_call\n",
            "    return fn(*args)\n",
            "  File \"/usr/local/lib/python3.7/dist-packages/tensorflow/python/client/session.py\", line 1339, in _run_fn\n",
            "    self._extend_graph()\n",
            "  File \"/usr/local/lib/python3.7/dist-packages/tensorflow/python/client/session.py\", line 1374, in _extend_graph\n",
            "    tf_session.ExtendSession(self._session)\n",
            "tensorflow.python.framework.errors_impl.InvalidArgumentError: Cannot assign a device for operation Variable: {{node Variable}}was explicitly assigned to /device:GPU:0 but available devices are [ /job:localhost/replica:0/task:0/device:CPU:0, /job:localhost/replica:0/task:0/device:XLA_CPU:0 ]. Make sure the device specification refers to a valid device.\n",
            "\t [[Variable]]\n",
            "\n",
            "During handling of the above exception, another exception occurred:\n",
            "\n",
            "Traceback (most recent call last):\n",
            "  File \"custom_neural_style.py\", line 978, in <module>\n",
            "    main()\n",
            "  File \"custom_neural_style.py\", line 973, in main\n",
            "    render_single_image(content_img_dir,style_img_dir,output_dir)\n",
            "  File \"custom_neural_style.py\", line 920, in render_single_image\n",
            "    stylize(content_img, style_imgs, init_img,Imgval,cnt_val,output_dir)\n",
            "  File \"custom_neural_style.py\", line 585, in stylize\n",
            "    L_style = sum_style_losses(sess, net, style_imgs)\n",
            "  File \"custom_neural_style.py\", line 437, in sum_style_losses\n",
            "    sess.run(net['input'].assign(img))\n",
            "  File \"/usr/local/lib/python3.7/dist-packages/tensorflow/python/client/session.py\", line 950, in run\n",
            "    run_metadata_ptr)\n",
            "  File \"/usr/local/lib/python3.7/dist-packages/tensorflow/python/client/session.py\", line 1173, in _run\n",
            "    feed_dict_tensor, options, run_metadata)\n",
            "  File \"/usr/local/lib/python3.7/dist-packages/tensorflow/python/client/session.py\", line 1350, in _do_run\n",
            "    run_metadata)\n",
            "  File \"/usr/local/lib/python3.7/dist-packages/tensorflow/python/client/session.py\", line 1370, in _do_call\n",
            "    raise type(e)(node_def, op, message)\n",
            "tensorflow.python.framework.errors_impl.InvalidArgumentError: Cannot assign a device for operation Variable: node Variable (defined at custom_neural_style.py:270) was explicitly assigned to /device:GPU:0 but available devices are [ /job:localhost/replica:0/task:0/device:CPU:0, /job:localhost/replica:0/task:0/device:XLA_CPU:0 ]. Make sure the device specification refers to a valid device.\n",
            "\t [[Variable]]\n"
          ]
        }
      ]
    },
    {
      "cell_type": "code",
      "metadata": {
        "colab": {
          "base_uri": "https://localhost:8080/"
        },
        "id": "fWmYyiF7T-8z",
        "outputId": "455e475d-8de5-4696-9817-651892b39038"
      },
      "source": [
        "!python object.py -m \"/content/drive/MyDrive/art/neural-style-tf/ntf/mask/\" -inn \"/content/drive/MyDrive/art/neural-style-tf/ntf/Input_1/\" -st \"/content/drive/MyDrive/art/neural-style-tf/ntf/Results_1/*\" -o \"/content/drive/MyDrive/art/neural-style-tf/ntf/output_1/\""
      ],
      "execution_count": null,
      "outputs": [
        {
          "output_type": "stream",
          "name": "stdout",
          "text": [
            "['/content/drive/MyDrive/art/neural-style-tf/ntf/Input_1/64.jpg', '/content/drive/MyDrive/art/neural-style-tf/ntf/Input_1/92.jpg', '/content/drive/MyDrive/art/neural-style-tf/ntf/Input_1/56.jpg', '/content/drive/MyDrive/art/neural-style-tf/ntf/Input_1/12.jpg', '/content/drive/MyDrive/art/neural-style-tf/ntf/Input_1/115.jpg', '/content/drive/MyDrive/art/neural-style-tf/ntf/Input_1/483.jpg', '/content/drive/MyDrive/art/neural-style-tf/ntf/Input_1/365.jpg']\n",
            "inferencing: 64.jpg\n",
            "/usr/local/lib/python3.7/dist-packages/torch/nn/functional.py:3509: UserWarning: nn.functional.upsample is deprecated. Use nn.functional.interpolate instead.\n",
            "  warnings.warn(\"nn.functional.upsample is deprecated. Use nn.functional.interpolate instead.\")\n",
            "/usr/local/lib/python3.7/dist-packages/torch/nn/functional.py:3635: UserWarning: Default upsampling behavior when mode=bilinear is changed to align_corners=False since 0.4.0. Please specify align_corners=True if the old behavior is desired. See the documentation of nn.Upsample for details.\n",
            "  \"See the documentation of nn.Upsample for details.\".format(mode)\n",
            "/usr/local/lib/python3.7/dist-packages/torch/nn/functional.py:1806: UserWarning: nn.functional.sigmoid is deprecated. Use torch.sigmoid instead.\n",
            "  warnings.warn(\"nn.functional.sigmoid is deprecated. Use torch.sigmoid instead.\")\n",
            "inferencing: 92.jpg\n",
            "inferencing: 56.jpg\n",
            "inferencing: 12.jpg\n",
            "inferencing: 115.jpg\n",
            "inferencing: 483.jpg\n",
            "inferencing: 365.jpg\n",
            "64\n",
            "92\n",
            "56\n",
            "12\n",
            "115\n",
            "483\n",
            "365\n",
            "done\n"
          ]
        }
      ]
    },
    {
      "cell_type": "markdown",
      "metadata": {
        "id": "eiE4Uhvvzvb9"
      },
      "source": [
        ""
      ]
    }
  ]
}